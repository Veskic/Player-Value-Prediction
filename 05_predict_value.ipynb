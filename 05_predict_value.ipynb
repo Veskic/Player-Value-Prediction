{
 "cells": [
  {
   "cell_type": "code",
   "execution_count": 42,
   "id": "771f0b05",
   "metadata": {},
   "outputs": [],
   "source": [
    "import joblib\n",
    "import numpy as np\n",
    "import pandas as pd\n",
    "\n",
    "model = joblib.load(\"model/fifa_value_model.pkl\")\n",
    "\n",
    "features = ['age', 'height_cm', 'weight_kg', 'pace', 'shooting',\n",
    "            'passing', 'dribbling', 'defending', 'physic']"
   ]
  },
  {
   "cell_type": "code",
   "execution_count": 45,
   "id": "51a55db0",
   "metadata": {},
   "outputs": [
    {
     "name": "stdout",
     "output_type": "stream",
     "text": [
      "Predicted Market Value: €20,365,000.00\n"
     ]
    }
   ],
   "source": [
    "player_input = {\n",
    "    'age': 22,\n",
    "    'height_cm': 178,\n",
    "    'weight_kg': 75,\n",
    "    'pace': 84,\n",
    "    'shooting': 76,\n",
    "    'passing': 70,\n",
    "    'dribbling': 82,\n",
    "    'defending': 77,\n",
    "    'physic': 68\n",
    "}\n",
    "\n",
    "input_df = pd.DataFrame([player_input], columns=features)\n",
    "predicted_value = model.predict(input_df)[0]\n",
    "\n",
    "print(f\"Predicted Market Value: €{predicted_value:,.2f}\")"
   ]
  }
 ],
 "metadata": {
  "kernelspec": {
   "display_name": ".venv (3.13.5)",
   "language": "python",
   "name": "python3"
  },
  "language_info": {
   "codemirror_mode": {
    "name": "ipython",
    "version": 3
   },
   "file_extension": ".py",
   "mimetype": "text/x-python",
   "name": "python",
   "nbconvert_exporter": "python",
   "pygments_lexer": "ipython3",
   "version": "3.13.5"
  }
 },
 "nbformat": 4,
 "nbformat_minor": 5
}
